{
 "cells": [
  {
   "cell_type": "code",
   "execution_count": null,
   "id": "de6485b0-6c73-4efd-8d1b-ce5a3d109397",
   "metadata": {},
   "outputs": [],
   "source": [
    "%load_ext memory_profiler"
   ]
  },
  {
   "cell_type": "code",
   "execution_count": null,
   "id": "28f770e1-a88a-4f83-ad5f-a62b8d4696d7",
   "metadata": {},
   "outputs": [],
   "source": [
    "import os\n",
    "import cv2\n",
    "import time\n",
    "import json\n",
    "import psutil\n",
    "import numpy as np\n",
    "from PIL import Image\n",
    "import albumentations as A\n",
    "from pycocotools.coco import COCO\n",
    "import matplotlib.pyplot as plt\n",
    "from matplotlib.path import Path\n",
    "from matplotlib.patches import PathPatch\n",
    "import torchvision.transforms.functional as F\n",
    "from torch.utils.data import Dataset, DataLoader\n",
    "from albumentations.pytorch.transforms import ToTensorV2\n",
    "plt.rcParams['figure.dpi'] = 100\n",
    "plt.rcParams['figure.figsize'] = [10, 10]"
   ]
  },
  {
   "cell_type": "code",
   "execution_count": null,
   "id": "b2a62c6b-eebb-4eaf-8a38-8c5a9c90bfdd",
   "metadata": {},
   "outputs": [],
   "source": [
    "def PLOT(img, anno, bbox_dis = False):\n",
    "    fig, ax = plt.subplots()\n",
    "    cmp = ['#ff0000', '#00ff00', '#0000ff', '#ffff00', '#00ffff', '#ff00ff', '#ff8000', '#80ff00']\n",
    "    skeleton = [[15,13],[13,11],[16,14],[14,12],[11,12],[5,11],[6,12],[5,6],[5,7],[6,8],[7,9],[8,10],[1,2],[0,1],[0,2],[1,3],[2,4],[3,5],[4,6]]\n",
    "    ax.imshow(img)\n",
    "    kypt = anno['keypoints']\n",
    "    anno_x = []\n",
    "    anno_y = []\n",
    "    anno_w = []\n",
    "    if len(kypt[0]) < 3:\n",
    "        for k in kypt:\n",
    "            anno_x.append(k[0])\n",
    "            anno_y.append(k[1])    \n",
    "        anno_w = anno['kweights']\n",
    "    else:\n",
    "        for k in range(int(len(kypt[0])/3)):\n",
    "            anno_x.append(kypt[0][k*3])\n",
    "            anno_y.append(kypt[0][k*3+1])\n",
    "            anno_w.append(kypt[0][k*3+2])\n",
    "    ax.scatter(anno_x, anno_y, marker = '.', color = cmp[1])\n",
    "    for i in skeleton:\n",
    "        #if anno_x[i[0]] != 0 and anno_x[i[1]] != 0 and anno_y[i[0]] != 0 and anno_y[i[1]] != 0:\n",
    "        if anno_w[i[0]] != 0 and anno_w[i[1]] != 0:\n",
    "            x = []\n",
    "            y = []\n",
    "            x.append(anno_x[i[0]])\n",
    "            x.append(anno_x[i[1]])\n",
    "            y.append(anno_y[i[0]])\n",
    "            y.append(anno_y[i[1]])\n",
    "            ax.plot(x, y , linestyle = '-', color = cmp[1])\n",
    "    if bbox_dis:\n",
    "        bbox = []\n",
    "        codes = []\n",
    "        vertices = []\n",
    "        codes = [Path.MOVETO] + [Path.LINETO]*3 + [Path.CLOSEPOLY]\n",
    "        bbox.append(anno['bbox'][0][0])\n",
    "        bbox.append(anno['bbox'][0][1])\n",
    "        bbox.append(anno['bbox'][0][0] + anno['bbox'][0][2])\n",
    "        bbox.append(anno['bbox'][0][1] + anno['bbox'][0][3])\n",
    "        vertices = [(bbox[0], bbox[1]), (bbox[0], bbox[3]), (bbox[2], bbox[3]), (bbox[2], bbox[1]), (0, 0)]\n",
    "        path = Path(vertices, codes)\n",
    "        pathpatch = PathPatch(path, facecolor ='none', edgecolor = cmp[1])\n",
    "        ax.add_patch(pathpatch)\n",
    "    plt.show()\n",
    "    #fig.savefig('./output.jpg')\n",
    "    return"
   ]
  },
  {
   "cell_type": "code",
   "execution_count": null,
   "id": "38c54216-2d7d-462d-8aeb-cb901e158ffe",
   "metadata": {},
   "outputs": [],
   "source": [
    "def PLOT_HEATMAP(heatmap):\n",
    "    label = [\"nose\",\"left_eye\",\"right_eye\",\"left_ear\", \n",
    "             \"right_ear\",\"left_shoulder\",\"right_shoulder\",\n",
    "             \"left_elbow\",\"right_elbow\",\"left_wrist\",\"right_wrist\",\n",
    "             \"left_hip\",\"right_hip\",\"left_knee\",\"right_knee\",\"left_ankle\",\"right_ankle\"]\n",
    "    for i in range(17):\n",
    "        plt.subplot(5, 4, i+1)\n",
    "        plt.imshow(heatmap[i])\n",
    "        plt.title(label[i])\n",
    "    plt.tight_layout()\n",
    "    plt.show()\n",
    "    return"
   ]
  },
  {
   "cell_type": "code",
   "execution_count": null,
   "id": "1b415d24-6170-4900-9942-599ef3956b52",
   "metadata": {},
   "outputs": [],
   "source": [
    "def gaussian_heatmap(anno, shape, sigma=8):\n",
    "    kypt = anno['keypoints']\n",
    "    heatmap = []\n",
    "    for i in range(len(kypt)):\n",
    "        if anno['weights'][i] != 0: \n",
    "            coords = kypt[i]\n",
    "            x, y = np.meshgrid(np.arange(shape[1]), np.arange(shape[0]))\n",
    "            dists = np.sqrt((x[:, :, np.newaxis] - coords[0])**2 +\n",
    "                            (y[:, :, np.newaxis] - coords[1])**2)\n",
    "            gaussians = np.exp(-dists**2 / (2 * sigma**2))\n",
    "            tmp = np.sum(gaussians, axis=2)\n",
    "            tmp /= np.max(tmp)\n",
    "            heatmap.append(tmp)\n",
    "        else:\n",
    "            heatmap.append(np.zeros(shape))\n",
    "    heatmap = np.array(heatmap)\n",
    "    return heatmap"
   ]
  },
  {
   "cell_type": "code",
   "execution_count": 1,
   "id": "061302f1-662e-48e5-b17e-1f77af281332",
   "metadata": {},
   "outputs": [],
   "source": [
    "import os\n",
    "import cv2\n",
    "import json\n",
    "#import psutil\n",
    "import numpy as np\n",
    "from PIL import Image\n",
    "import albumentations as A\n",
    "from pycocotools.coco import COCO\n",
    "#import matplotlib.pyplot as plt\n",
    "#from matplotlib.path import Path\n",
    "#from matplotlib.patches import PathPatch\n",
    "#import torchvision.transforms.functional as F\n",
    "from torch.utils.data import Dataset, DataLoader\n",
    "from albumentations.pytorch.transforms import ToTensorV2\n",
    "#plt.rcParams['figure.dpi'] = 100\n",
    "#plt.rcParams['figure.figsize'] = [10, 10]"
   ]
  },
  {
   "cell_type": "code",
   "execution_count": 2,
   "id": "fde9a93a-8453-4cfe-af1a-1760ed4cd838",
   "metadata": {},
   "outputs": [],
   "source": [
    "class COCO2017Keypoint(Dataset):\n",
    "    def __init__(self, PATH, transforms = None):\n",
    "        super(COCO2017Keypoint, self).__init__()\n",
    "        with open(PATH,'r') as f:\n",
    "            self.PATH = json.load(f)\n",
    "        self.api = COCO(annotation_file = os.path.join(self.PATH['ROOT'], self.PATH['ValAnn']))\n",
    "        self.ids = list(self.api.anns.keys())\n",
    "        self.transforms = transforms\n",
    "    \n",
    "    def __getitem__(self, index):\n",
    "        anno_tmp = self.api.loadAnns(ids = self.ids[index])[0]\n",
    "        anno = {'keypoints' : [], 'kweights' : []}\n",
    "        bbox = []\n",
    "        bbox.append(int(anno_tmp['bbox'][0]))\n",
    "        bbox.append(int(anno_tmp['bbox'][1]))\n",
    "        bbox.append(int(anno_tmp['bbox'][0] + anno_tmp['bbox'][2]))\n",
    "        bbox.append(int(anno_tmp['bbox'][1] + anno_tmp['bbox'][3]))\n",
    "        #for i in range(int(len(anno_tmp['keypoints'])/3)):\n",
    "        num_of_keypoints = int(len(anno_tmp['keypoints'])/3)\n",
    "        for i in range(num_of_keypoints):\n",
    "            tmp = [anno_tmp['keypoints'][i*3],anno_tmp['keypoints'][i*3+1], anno_tmp['keypoints'][i*3+2]]\n",
    "            if tmp[2] == 0:                   \n",
    "                anno['keypoints'].append([0, 0])\n",
    "                anno['kweights'].append(0)\n",
    "            elif tmp[0] > bbox[0] and tmp[0] < bbox[2] and tmp[1] > bbox[1] and tmp[1] < bbox[3]:\n",
    "                tmp[0] -= bbox[0]\n",
    "                tmp[1] -= bbox[1]\n",
    "                anno['keypoints'].append([tmp[0], tmp[1]])\n",
    "                anno['kweights'].append(tmp[2])\n",
    "            else:                \n",
    "                anno['keypoints'].append([0, 0])\n",
    "                anno['kweights'].append(0)\n",
    "        img = Image.open(os.path.join(self.PATH['ROOT'],\n",
    "                                      self.PATH['ValImg'], \n",
    "                                      self.api.loadImgs(ids = anno_tmp['image_id'])[0]['file_name']))\n",
    "        img = np.array(img.crop((bbox[0], bbox[1], bbox[2], bbox[3])))\n",
    "        if self.transforms is not None:\n",
    "            transformed = self.transforms(image = img, keypoints = anno['keypoints'])\n",
    "            img = transformed['image']\n",
    "            anno['keypoints'] = transformed['keypoints']\n",
    "        return img, anno\n",
    "    \n",
    "    def __len__(self):\n",
    "        return len(self.ids)"
   ]
  },
  {
   "cell_type": "code",
   "execution_count": 3,
   "id": "358f0cb3-57c3-491f-8b26-5d78380fbf02",
   "metadata": {},
   "outputs": [
    {
     "name": "stdout",
     "output_type": "stream",
     "text": [
      "loading annotations into memory...\n",
      "Done (t=0.27s)\n",
      "creating index...\n",
      "index created!\n"
     ]
    }
   ],
   "source": [
    "transforms = A.Compose([A.RandomBrightnessContrast(p = 0.5), \n",
    "                        A.SafeRotate(interpolation = cv2.INTER_LINEAR, border_mode = cv2.BORDER_CONSTANT, value = 0, p = 0.5),\n",
    "                        A.Resize(height=224,\n",
    "                                    width=224,\n",
    "                                    interpolation = cv2.INTER_LINEAR),\n",
    "                        A.Normalize(),\n",
    "                        ToTensorV2()],\n",
    "                       keypoint_params = A.KeypointParams(format = 'xy', remove_invisible = False))\n",
    "data = COCO2017Keypoint(PATH = 'PATH.json', transforms = transforms)\n",
    "val_loader = DataLoader(data, batch_size = 1, shuffle = False)"
   ]
  },
  {
   "cell_type": "code",
   "execution_count": 4,
   "id": "50a2815c-d06d-4aa8-865c-dc692d60c8b0",
   "metadata": {},
   "outputs": [
    {
     "name": "stdout",
     "output_type": "stream",
     "text": [
      "0\n"
     ]
    }
   ],
   "source": [
    "for idx, ipt in enumerate(val_loader):\n",
    "    print(idx)\n",
    "    break"
   ]
  },
  {
   "cell_type": "code",
   "execution_count": null,
   "id": "b180a994-e3e7-4f90-814c-fcf4a8ce5850",
   "metadata": {},
   "outputs": [],
   "source": []
  }
 ],
 "metadata": {
  "kernelspec": {
   "display_name": "Python 3 (ipykernel)",
   "language": "python",
   "name": "python3"
  },
  "language_info": {
   "codemirror_mode": {
    "name": "ipython",
    "version": 3
   },
   "file_extension": ".py",
   "mimetype": "text/x-python",
   "name": "python",
   "nbconvert_exporter": "python",
   "pygments_lexer": "ipython3",
   "version": "3.8.10"
  }
 },
 "nbformat": 4,
 "nbformat_minor": 5
}
