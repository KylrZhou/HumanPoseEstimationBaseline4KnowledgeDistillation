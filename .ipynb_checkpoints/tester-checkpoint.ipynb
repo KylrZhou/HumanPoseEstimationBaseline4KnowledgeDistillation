{
 "cells": [
  {
   "cell_type": "code",
   "execution_count": 5,
   "id": "361e9bff-3b4b-412c-8973-72e02ad0548a",
   "metadata": {},
   "outputs": [],
   "source": [
    "from Pipelines.Training import TrainingFrame\n",
    "from CustomDataset import COCO2017Keypoint\n",
    "import albumentations as A\n",
    "import cv2"
   ]
  },
  {
   "cell_type": "code",
   "execution_count": 6,
   "id": "832b1e7e-f3e6-4676-b434-84582474d6f1",
   "metadata": {},
   "outputs": [],
   "source": [
    "transforms = A.Compose([A.RandomBrightnessContrast(p = 0.5), \n",
    "                        A.SafeRotate(interpolation = cv2.INTER_LINEAR, border_mode = cv2.BORDER_CONSTANT, value = 0, p = 0.5),\n",
    "                        A.Resize(height=224,\n",
    "                                    width=224,\n",
    "                                    interpolation = cv2.INTER_LINEAR),\n",
    "                        #A.Normalize()\n",
    "                       ],\n",
    "                       keypoint_params = A.KeypointParams(format = 'xy', remove_invisible = False))"
   ]
  },
  {
   "cell_type": "code",
   "execution_count": null,
   "id": "d97bb78f-5409-4ed8-9033-f898ddca20cb",
   "metadata": {},
   "outputs": [],
   "source": [
    "Dataset = COCO2017Keypoint(PATH = 'PATH.json',\n",
    "                           transforms = transforms,\n",
    "                           mode = 'Train',)"
   ]
  },
  {
   "cell_type": "code",
   "execution_count": null,
   "id": "904cb436-cf53-4c33-a7b2-904dc5fca903",
   "metadata": {},
   "outputs": [],
   "source": [
    "def TrainingFrame(Dataset=None,\n",
    "                  ValDataset=None,#\n",
    "                  Backbone=None, BackbonePTH=None,#\n",
    "                  Neck=None, NeckPTH=None,#\n",
    "                  Head=None, HeadPTH=None,#\n",
    "                  PostProcess=None,\n",
    "                  GTPreProcess=None,\n",
    "                  Epochs=None,#\n",
    "                  Criterion=None,#\n",
    "                  Metric4Train=None,#\n",
    "                  Metric4Val=None,\n",
    "                  Optimizer=None,#\n",
    "                  Scheduler=None,#\n",
    "                  Device=None,\n",
    "                  LogInterval=None,\n",
    "                  SaveInterval=None,\n",
    "                  ValInterval=None,\n",
    "                  log_dir=None)"
   ]
  }
 ],
 "metadata": {
  "kernelspec": {
   "display_name": "Python 3 (ipykernel)",
   "language": "python",
   "name": "python3"
  },
  "language_info": {
   "codemirror_mode": {
    "name": "ipython",
    "version": 3
   },
   "file_extension": ".py",
   "mimetype": "text/x-python",
   "name": "python",
   "nbconvert_exporter": "python",
   "pygments_lexer": "ipython3",
   "version": "3.8.10"
  }
 },
 "nbformat": 4,
 "nbformat_minor": 5
}
