{
 "cells": [
  {
   "cell_type": "code",
   "execution_count": 1,
   "id": "361e9bff-3b4b-412c-8973-72e02ad0548a",
   "metadata": {},
   "outputs": [],
   "source": [
    "from Pipelines.Training import BasicTraining"
   ]
  },
  {
   "cell_type": "code",
   "execution_count": null,
   "id": "904cb436-cf53-4c33-a7b2-904dc5fca903",
   "metadata": {},
   "outputs": [],
   "source": []
  }
 ],
 "metadata": {
  "kernelspec": {
   "display_name": "Python 3 (ipykernel)",
   "language": "python",
   "name": "python3"
  },
  "language_info": {
   "codemirror_mode": {
    "name": "ipython",
    "version": 3
   },
   "file_extension": ".py",
   "mimetype": "text/x-python",
   "name": "python",
   "nbconvert_exporter": "python",
   "pygments_lexer": "ipython3",
   "version": "3.8.10"
  }
 },
 "nbformat": 4,
 "nbformat_minor": 5
}
