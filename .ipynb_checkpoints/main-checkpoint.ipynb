{
 "cells": [
  {
   "cell_type": "markdown",
   "id": "ded0b84b-c6df-4b10-83fb-696336880813",
   "metadata": {},
   "source": [
    "- ResNet\n",
    "- LinearHead\n",
    "- Heatmap\n",
    "- Loss with GT Heatmap"
   ]
  },
  {
   "cell_type": "code",
   "execution_count": null,
   "id": "b2a62c6b-eebb-4eaf-8a38-8c5a9c90bfdd",
   "metadata": {},
   "outputs": [],
   "source": [
    "def PLOT(img, anno, bbox_dis = False):\n",
    "    fig, ax = plt.subplots()\n",
    "    cmp = ['#ff0000', '#00ff00', '#0000ff', '#ffff00', '#00ffff', '#ff00ff', '#ff8000', '#80ff00']\n",
    "    skeleton = [[15,13],[13,11],[16,14],[14,12],[11,12],[5,11],[6,12],[5,6],[5,7],[6,8],[7,9],[8,10],[1,2],[0,1],[0,2],[1,3],[2,4],[3,5],[4,6]]\n",
    "    ax.imshow(img)\n",
    "    kypt = anno['keypoints']\n",
    "    anno_x = []\n",
    "    anno_y = []\n",
    "    anno_w = []\n",
    "    if len(kypt[0]) < 3:\n",
    "        for k in kypt:\n",
    "            anno_x.append(k[0])\n",
    "            anno_y.append(k[1])    \n",
    "        anno_w = anno['kweights']\n",
    "    else:\n",
    "        for k in range(int(len(kypt[0])/3)):\n",
    "            anno_x.append(kypt[0][k*3])\n",
    "            anno_y.append(kypt[0][k*3+1])\n",
    "            anno_w.append(kypt[0][k*3+2])\n",
    "    ax.scatter(anno_x, anno_y, marker = '.', color = cmp[1])\n",
    "    for i in skeleton:\n",
    "        #if anno_x[i[0]] != 0 and anno_x[i[1]] != 0 and anno_y[i[0]] != 0 and anno_y[i[1]] != 0:\n",
    "        if anno_w[i[0]] != 0 and anno_w[i[1]] != 0:\n",
    "            x = []\n",
    "            y = []\n",
    "            x.append(anno_x[i[0]])\n",
    "            x.append(anno_x[i[1]])\n",
    "            y.append(anno_y[i[0]])\n",
    "            y.append(anno_y[i[1]])\n",
    "            ax.plot(x, y , linestyle = '-', color = cmp[1])\n",
    "    if bbox_dis:\n",
    "        bbox = []\n",
    "        codes = []\n",
    "        vertices = []\n",
    "        codes = [Path.MOVETO] + [Path.LINETO]*3 + [Path.CLOSEPOLY]\n",
    "        bbox.append(anno['bbox'][0][0])\n",
    "        bbox.append(anno['bbox'][0][1])\n",
    "        bbox.append(anno['bbox'][0][0] + anno['bbox'][0][2])\n",
    "        bbox.append(anno['bbox'][0][1] + anno['bbox'][0][3])\n",
    "        vertices = [(bbox[0], bbox[1]), (bbox[0], bbox[3]), (bbox[2], bbox[3]), (bbox[2], bbox[1]), (0, 0)]\n",
    "        path = Path(vertices, codes)\n",
    "        pathpatch = PathPatch(path, facecolor ='none', edgecolor = cmp[1])\n",
    "        ax.add_patch(pathpatch)\n",
    "    plt.show()\n",
    "    #fig.savefig('./output.jpg')\n",
    "    return"
   ]
  },
  {
   "cell_type": "code",
   "execution_count": null,
   "id": "38c54216-2d7d-462d-8aeb-cb901e158ffe",
   "metadata": {},
   "outputs": [],
   "source": [
    "def PLOT_HEATMAP(heatmap):\n",
    "    label = [\"nose\",\"left_eye\",\"right_eye\",\"left_ear\", \n",
    "             \"right_ear\",\"left_shoulder\",\"right_shoulder\",\n",
    "             \"left_elbow\",\"right_elbow\",\"left_wrist\",\"right_wrist\",\n",
    "             \"left_hip\",\"right_hip\",\"left_knee\",\"right_knee\",\"left_ankle\",\"right_ankle\"]\n",
    "    for i in range(17):\n",
    "        plt.subplot(5, 4, i+1)\n",
    "        plt.imshow(heatmap[i])\n",
    "        plt.title(label[i])\n",
    "    plt.tight_layout()\n",
    "    plt.show()\n",
    "    return"
   ]
  },
  {
   "cell_type": "code",
   "execution_count": null,
   "id": "1b415d24-6170-4900-9942-599ef3956b52",
   "metadata": {},
   "outputs": [],
   "source": [
    "def gaussian_heatmap(anno, shape, sigma=8):\n",
    "    kypt = anno['keypoints']\n",
    "    heatmap = []\n",
    "    for i in range(len(kypt)):\n",
    "        if anno['weights'][i] != 0: \n",
    "            coords = kypt[i]\n",
    "            x, y = np.meshgrid(np.arange(shape[1]), np.arange(shape[0]))\n",
    "            dists = np.sqrt((x[:, :, np.newaxis] - coords[0])**2 +\n",
    "                            (y[:, :, np.newaxis] - coords[1])**2)\n",
    "            gaussians = np.exp(-dists**2 / (2 * sigma**2))\n",
    "            tmp = np.sum(gaussians, axis=2)\n",
    "            tmp /= np.max(tmp)\n",
    "            heatmap.append(tmp)\n",
    "        else:\n",
    "            heatmap.append(np.zeros(shape))\n",
    "    heatmap = np.array(heatmap)\n",
    "    return heatmap"
   ]
  },
  {
   "cell_type": "code",
   "execution_count": null,
   "id": "0dd878d7-d39d-427a-880f-45628a256faf",
   "metadata": {},
   "outputs": [],
   "source": [
    "network = ResNet(18)"
   ]
  },
  {
   "cell_type": "code",
   "execution_count": null,
   "id": "6cf5b2cf-ec52-42b8-9ca2-66556d9390ea",
   "metadata": {},
   "outputs": [],
   "source": [
    "device = torch.device(\"cuda\" if torch.cuda.is_available() else \"cpu\") # PyTorch v0.4.0\n",
    "network = ResNet(18).to(device)\n",
    "summary(network, (3, 224, 224))"
   ]
  },
  {
   "cell_type": "code",
   "execution_count": null,
   "id": "d5202ecf-d397-4185-a3f2-c4ddc640e82d",
   "metadata": {},
   "outputs": [],
   "source": [
    "count = 10\n",
    "import numpy as np\n",
    "from torchvision.transforms.functional import to_pil_image\n",
    "for idx, data in enumerate(val_loader):\n",
    "    data[0] = network(data[0])\n",
    "    print(data[0].size())\n",
    "    #plt.imshow(to_pil_image(data[0].view(3,224,224)))\n",
    "    #plt.show()\n",
    "    count -= 1\n",
    "    if count == 0:\n",
    "        break"
   ]
  },
  {
   "cell_type": "code",
   "execution_count": null,
   "id": "bdc0262c-7d2f-4d26-8983-eb0bfdcafadb",
   "metadata": {},
   "outputs": [],
   "source": [
    "tmg = Image.open('/root/autodl-tmp/Baseline/data/coco/images/val2017/000000353180.jpg')\n",
    "tmg2 = Image.open('/root/autodl-tmp/Baseline/data/coco/images/val2017/000000425226.jpg')"
   ]
  },
  {
   "cell_type": "code",
   "execution_count": null,
   "id": "a882914c-9a75-4c17-962e-1d6e98a1b71c",
   "metadata": {},
   "outputs": [],
   "source": [
    "plt.imshow(tmg2)\n",
    "plt.show()"
   ]
  },
  {
   "cell_type": "code",
   "execution_count": null,
   "id": "0ee76545-b026-4e43-92d2-053040ce3bcf",
   "metadata": {},
   "outputs": [],
   "source": [
    "import numpy as np\n",
    "print(np.array(tmg2).shape)"
   ]
  },
  {
   "cell_type": "code",
   "execution_count": null,
   "id": "b24bdbf8-3914-480a-a980-92b5ed5e179f",
   "metadata": {},
   "outputs": [],
   "source": [
    "m1 = torch.zeros(1,10,10)"
   ]
  },
  {
   "cell_type": "code",
   "execution_count": null,
   "id": "5a630027-c697-4a1c-8ad5-c6bdaedf75b7",
   "metadata": {},
   "outputs": [],
   "source": [
    "m2 = torch.cat([m1, m1, m1], dim =0)"
   ]
  },
  {
   "cell_type": "code",
   "execution_count": null,
   "id": "cc40a22f-61ef-4517-8f93-41bfac1c7d07",
   "metadata": {},
   "outputs": [],
   "source": [
    "print(m1.size())\n",
    "print(m2.size())"
   ]
  },
  {
   "cell_type": "code",
   "execution_count": null,
   "id": "5ef159dc-5c63-4fe1-8da9-ba9d76e7ae5d",
   "metadata": {},
   "outputs": [],
   "source": [
    "from PIL import Image\n",
    "from torchvision.transforms import ToPILImage\n",
    "import matplotlib.pyplot as plt"
   ]
  },
  {
   "cell_type": "code",
   "execution_count": null,
   "id": "8295332f-bf38-4081-ad63-63ddc989e927",
   "metadata": {},
   "outputs": [],
   "source": [
    "from torch.utils.data import DataLoader\n",
    "import albumentations as A\n",
    "from CustomDataset import COCO2017Keypoint\n",
    "from Models import ResNet\n",
    "import cv2\n",
    "transforms = A.Compose([A.RandomBrightnessContrast(p = 0.5), \n",
    "                        A.SafeRotate(interpolation = cv2.INTER_LINEAR, border_mode = cv2.BORDER_CONSTANT, value = 0, p = 0.5),\n",
    "                        A.Resize(height=224,\n",
    "                                    width=224,\n",
    "                                    interpolation = cv2.INTER_LINEAR),\n",
    "                        #A.Normalize()\n",
    "                       ],\n",
    "                       keypoint_params = A.KeypointParams(format = 'xy', remove_invisible = False))"
   ]
  },
  {
   "cell_type": "code",
   "execution_count": null,
   "id": "845e609d-c961-40c1-ad24-4566caf408d7",
   "metadata": {},
   "outputs": [],
   "source": [
    "import torch"
   ]
  },
  {
   "cell_type": "code",
   "execution_count": null,
   "id": "99a10da5-592f-45e5-a87c-6bfa51edb296",
   "metadata": {},
   "outputs": [],
   "source": [
    "from Pipelines.Training.BasicTraining import BasicTraining"
   ]
  },
  {
   "cell_type": "code",
   "execution_count": null,
   "id": "c40a1629-8939-4915-a568-2563eefbc1bb",
   "metadata": {},
   "outputs": [],
   "source": [
    "from torchsummary import summary"
   ]
  },
  {
   "cell_type": "code",
   "execution_count": null,
   "id": "38fc62a5-0cf1-4cca-b44a-a1c9b70ff1ad",
   "metadata": {},
   "outputs": [],
   "source": [
    "val_loader = DataLoader(dataset = COCO2017Keypoint(PATH = 'PATH.json', \n",
    "                                                   transforms = transforms, \n",
    "                                                   mode = 'Val'), \n",
    "                        batch_size = 64, \n",
    "                        shuffle = False,\n",
    "                        num_workers = 2)"
   ]
  },
  {
   "cell_type": "code",
   "execution_count": null,
   "id": "3a95a42e-844a-43a9-be7a-9fe058725396",
   "metadata": {},
   "outputs": [],
   "source": [
    "from Pipelines.Training import BasicTraining\n",
    "from CustomDataset import COCO2017Keypoint"
   ]
  }
 ],
 "metadata": {
  "kernelspec": {
   "display_name": "Python 3 (ipykernel)",
   "language": "python",
   "name": "python3"
  },
  "language_info": {
   "codemirror_mode": {
    "name": "ipython",
    "version": 3
   },
   "file_extension": ".py",
   "mimetype": "text/x-python",
   "name": "python",
   "nbconvert_exporter": "python",
   "pygments_lexer": "ipython3",
   "version": "3.8.10"
  }
 },
 "nbformat": 4,
 "nbformat_minor": 5
}
